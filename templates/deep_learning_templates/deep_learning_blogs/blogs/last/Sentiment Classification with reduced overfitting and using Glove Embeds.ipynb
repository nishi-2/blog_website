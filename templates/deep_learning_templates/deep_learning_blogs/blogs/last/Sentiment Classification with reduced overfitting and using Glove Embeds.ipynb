{
 "cells": [
  {
   "cell_type": "code",
   "execution_count": 1,
   "id": "a30a1e60",
   "metadata": {},
   "outputs": [],
   "source": [
    "import pickle\n",
    "import pandas as pd\n",
    "import numpy as np\n",
    "import tensorflow as tf\n",
    "import matplotlib.pyplot as plt\n",
    "\n",
    "import tensorflow_datasets as tfds"
   ]
  },
  {
   "cell_type": "markdown",
   "id": "5659f013",
   "metadata": {},
   "source": [
    "Setting up some global variables -\n",
    "\n",
    "- `EMBEDDING_DIM`: Dimension of the dense embedding, will be used in the embedding layer of the model. Defaults to 100.\n",
    "\n",
    "\n",
    "- `MAX_LENGTH`: Maximum length of all sequences. Defaults to 32.\n",
    "\n",
    "    \n",
    "- `TRAINING_SPLIT`: Proportion of data used for training. Defaults to 0.9\n",
    "\n",
    "- `BATCH_SIZE`: Batch size. Defaults to 128"
   ]
  },
  {
   "cell_type": "code",
   "execution_count": 2,
   "id": "f911e384",
   "metadata": {},
   "outputs": [],
   "source": [
    "EMBEDDING_DIM = 100\n",
    "MAX_LENGTH = 32\n",
    "TRAINING_SPLIT = 0.9\n",
    "BATCH_SIZE = 128"
   ]
  },
  {
   "cell_type": "code",
   "execution_count": 3,
   "id": "73d60338",
   "metadata": {},
   "outputs": [
    {
     "data": {
      "text/html": [
       "<div>\n",
       "<style scoped>\n",
       "    .dataframe tbody tr th:only-of-type {\n",
       "        vertical-align: middle;\n",
       "    }\n",
       "\n",
       "    .dataframe tbody tr th {\n",
       "        vertical-align: top;\n",
       "    }\n",
       "\n",
       "    .dataframe thead th {\n",
       "        text-align: right;\n",
       "    }\n",
       "</style>\n",
       "<table border=\"1\" class=\"dataframe\">\n",
       "  <thead>\n",
       "    <tr style=\"text-align: right;\">\n",
       "      <th></th>\n",
       "      <th>0</th>\n",
       "      <th>1</th>\n",
       "      <th>2</th>\n",
       "      <th>3</th>\n",
       "      <th>4</th>\n",
       "      <th>5</th>\n",
       "    </tr>\n",
       "  </thead>\n",
       "  <tbody>\n",
       "    <tr>\n",
       "      <th>0</th>\n",
       "      <td>0</td>\n",
       "      <td>1467810369</td>\n",
       "      <td>Mon Apr 06 22:19:45 PDT 2009</td>\n",
       "      <td>NO_QUERY</td>\n",
       "      <td>_TheSpecialOne_</td>\n",
       "      <td>@switchfoot http://twitpic.com/2y1zl - Awww, t...</td>\n",
       "    </tr>\n",
       "    <tr>\n",
       "      <th>1</th>\n",
       "      <td>0</td>\n",
       "      <td>1467810672</td>\n",
       "      <td>Mon Apr 06 22:19:49 PDT 2009</td>\n",
       "      <td>NO_QUERY</td>\n",
       "      <td>scotthamilton</td>\n",
       "      <td>is upset that he can't update his Facebook by ...</td>\n",
       "    </tr>\n",
       "    <tr>\n",
       "      <th>2</th>\n",
       "      <td>0</td>\n",
       "      <td>1467810917</td>\n",
       "      <td>Mon Apr 06 22:19:53 PDT 2009</td>\n",
       "      <td>NO_QUERY</td>\n",
       "      <td>mattycus</td>\n",
       "      <td>@Kenichan I dived many times for the ball. Man...</td>\n",
       "    </tr>\n",
       "    <tr>\n",
       "      <th>3</th>\n",
       "      <td>0</td>\n",
       "      <td>1467811184</td>\n",
       "      <td>Mon Apr 06 22:19:57 PDT 2009</td>\n",
       "      <td>NO_QUERY</td>\n",
       "      <td>ElleCTF</td>\n",
       "      <td>my whole body feels itchy and like its on fire</td>\n",
       "    </tr>\n",
       "    <tr>\n",
       "      <th>4</th>\n",
       "      <td>0</td>\n",
       "      <td>1467811193</td>\n",
       "      <td>Mon Apr 06 22:19:57 PDT 2009</td>\n",
       "      <td>NO_QUERY</td>\n",
       "      <td>Karoli</td>\n",
       "      <td>@nationwideclass no, it's not behaving at all....</td>\n",
       "    </tr>\n",
       "  </tbody>\n",
       "</table>\n",
       "</div>"
      ],
      "text/plain": [
       "   0           1                             2         3                4  \\\n",
       "0  0  1467810369  Mon Apr 06 22:19:45 PDT 2009  NO_QUERY  _TheSpecialOne_   \n",
       "1  0  1467810672  Mon Apr 06 22:19:49 PDT 2009  NO_QUERY    scotthamilton   \n",
       "2  0  1467810917  Mon Apr 06 22:19:53 PDT 2009  NO_QUERY         mattycus   \n",
       "3  0  1467811184  Mon Apr 06 22:19:57 PDT 2009  NO_QUERY          ElleCTF   \n",
       "4  0  1467811193  Mon Apr 06 22:19:57 PDT 2009  NO_QUERY           Karoli   \n",
       "\n",
       "                                                   5  \n",
       "0  @switchfoot http://twitpic.com/2y1zl - Awww, t...  \n",
       "1  is upset that he can't update his Facebook by ...  \n",
       "2  @Kenichan I dived many times for the ball. Man...  \n",
       "3    my whole body feels itchy and like its on fire   \n",
       "4  @nationwideclass no, it's not behaving at all....  "
      ]
     },
     "execution_count": 3,
     "metadata": {},
     "output_type": "execute_result"
    }
   ],
   "source": [
    "data_path = \"./data/twitter_1.6m_dataset.csv\"\n",
    "df = pd.read_csv(data_path, header=None, encoding=\"Windows-1252\")\n",
    "df.head()"
   ]
  },
  {
   "cell_type": "code",
   "execution_count": 4,
   "id": "d0dd352b",
   "metadata": {},
   "outputs": [
    {
     "name": "stdout",
     "output_type": "stream",
     "text": [
      "dataset contains 1600000 examples\n",
      "\n",
      "Text of second example look like this: is upset that he can't update his Facebook by texting it... and might cry as a result  School today also. Blah!\n",
      "\n",
      "Labels of first 5 examples look like this: [0, 0, 0, 0, 0]\n"
     ]
    }
   ],
   "source": [
    "# Standardize labels so they have 0 for negative and 1 for positive\n",
    "labels = df[0].apply(lambda x: 0 if x == 0 else 1).to_numpy()\n",
    "\n",
    "# Since the original dataset does not provide headers you need to index the columns by their index\n",
    "sentences = df[5].to_numpy()\n",
    "\n",
    "# Create the dataset\n",
    "dataset = tf.data.Dataset.from_tensor_slices((sentences, labels))\n",
    "\n",
    "# Get the first 5 elements of the dataset\n",
    "examples = list(dataset.take(5))\n",
    "\n",
    "print(f\"dataset contains {len(dataset)} examples\\n\")\n",
    "\n",
    "print(f\"Text of second example look like this: {examples[1][0].numpy().decode('utf-8')}\\n\")\n",
    "print(f\"Labels of first 5 examples look like this: {[x[1].numpy() for x in examples]}\")"
   ]
  },
  {
   "cell_type": "code",
   "execution_count": 5,
   "id": "939a9e42",
   "metadata": {},
   "outputs": [],
   "source": [
    "# GRADED FUNCTION: train_val_datasets\n",
    "\n",
    "def train_val_datasets(dataset):\n",
    "    \"\"\"\n",
    "    Splits the dataset into training and validation sets, after shuffling it.\n",
    "    \n",
    "    Args:\n",
    "        dataset (tf.data.Dataset): Tensorflow dataset with elements as (sentence, label)\n",
    "    \n",
    "    Returns:\n",
    "        (tf.data.Dataset, tf.data.Dataset): tuple containing the train and validation datasets\n",
    "    \"\"\"   \n",
    "    ### START CODE HERE ###\n",
    "    \n",
    "    # Compute the number of sentences that will be used for training (should be an integer)\n",
    "    train_size = int(len(dataset) * TRAINING_SPLIT)\n",
    "\n",
    "    # Split the sentences and labels into train/validation splits\n",
    "    train_dataset = dataset.take(train_size)\n",
    "    validation_dataset = dataset.skip(train_size)\n",
    "\n",
    "    # Turn the dataset into a batched dataset with BATCH_SIZE elements each.\n",
    "    train_dataset = train_dataset.batch(BATCH_SIZE)\n",
    "    validation_dataset = validation_dataset.batch(BATCH_SIZE)\n",
    "\n",
    "    ### END CODE HERE ###\n",
    "    \n",
    "    return train_dataset, validation_dataset"
   ]
  },
  {
   "cell_type": "code",
   "execution_count": 6,
   "id": "9d9af496",
   "metadata": {},
   "outputs": [
    {
     "name": "stdout",
     "output_type": "stream",
     "text": [
      "There are 11250 batches for a total of 1440000 elements for training.\n",
      "\n",
      "There are 1250 batches for a total of 160000 elements for validation.\n",
      "\n"
     ]
    }
   ],
   "source": [
    "# Create the train and validation datasets\n",
    "train_dataset, validation_dataset = train_val_datasets(dataset)\n",
    "\n",
    "print(f\"There are {len(train_dataset)} batches for a total of {BATCH_SIZE*len(train_dataset)} elements for training.\\n\")\n",
    "print(f\"There are {len(validation_dataset)} batches for a total of {BATCH_SIZE*len(validation_dataset)} elements for validation.\\n\")"
   ]
  },
  {
   "cell_type": "code",
   "execution_count": 9,
   "id": "f5dd76ae",
   "metadata": {},
   "outputs": [
    {
     "name": "stdout",
     "output_type": "stream",
     "text": [
      "(<tf.Tensor: shape=(128,), dtype=string, numpy=\n",
      "array([b\"@switchfoot http://twitpic.com/2y1zl - Awww, that's a bummer.  You shoulda got David Carr of Third Day to do it. ;D\",\n",
      "       b\"is upset that he can't update his Facebook by texting it... and might cry as a result  School today also. Blah!\",\n",
      "       b'@Kenichan I dived many times for the ball. Managed to save 50%  The rest go out of bounds',\n",
      "       b'my whole body feels itchy and like its on fire ',\n",
      "       b\"@nationwideclass no, it's not behaving at all. i'm mad. why am i here? because I can't see you all over there. \",\n",
      "       b'@Kwesidei not the whole crew ', b'Need a hug ',\n",
      "       b\"@LOLTrish hey  long time no see! Yes.. Rains a bit ,only a bit  LOL , I'm fine thanks , how's you ?\",\n",
      "       b\"@Tatiana_K nope they didn't have it \",\n",
      "       b'@twittera que me muera ? ',\n",
      "       b\"spring break in plain city... it's snowing \",\n",
      "       b'I just re-pierced my ears ',\n",
      "       b\"@caregiving I couldn't bear to watch it.  And I thought the UA loss was embarrassing . . . . .\",\n",
      "       b'@octolinz16 It it counts, idk why I did either. you never talk to me anymore ',\n",
      "       b\"@smarrison i would've been the first, but i didn't have a gun.    not really though, zac snyder's just a doucheclown.\",\n",
      "       b'@iamjazzyfizzle I wish I got to watch it with you!! I miss you and @iamlilnicki  how was the premiere?!',\n",
      "       b\"Hollis' death scene will hurt me severely to watch on film  wry is directors cut not out now?\",\n",
      "       b'about to file taxes ',\n",
      "       b'@LettyA ahh ive always wanted to see rent  love the soundtrack!!',\n",
      "       b'@FakerPattyPattz Oh dear. Were you drinking out of the forgotten table drinks? ',\n",
      "       b\"@alydesigns i was out most of the day so didn't get much done \",\n",
      "       b\"one of my friend called me, and asked to meet with her at Mid Valley today...but i've no time *sigh* \",\n",
      "       b'@angry_barista I baked you a cake but I ated it ',\n",
      "       b'this week is not going as i had hoped ',\n",
      "       b'blagh class at 8 tomorrow ',\n",
      "       b'I hate when I have to call and wake people up ',\n",
      "       b'Just going to cry myself to sleep after watching Marley and Me.  ',\n",
      "       b'im sad now  Miss.Lilly',\n",
      "       b\"ooooh.... LOL  that leslie.... and ok I won't do it again so leslie won't  get mad again \",\n",
      "       b'Meh... Almost Lover is the exception... this track gets me depressed every time. ',\n",
      "       b'some1 hacked my account on aim  now i have to make a new one',\n",
      "       b'@alielayus I want to go to promote GEAR AND GROOVE but unfornately no ride there  I may b going to the one in Anaheim in May though',\n",
      "       b'thought sleeping in was an option tomorrow but realizing that it now is not. evaluations in the morning and work in the afternoon! ',\n",
      "       b'@julieebaby awe i love you too!!!! 1 am here  i miss you',\n",
      "       b'@HumpNinja I cry my asian eyes to sleep at night ',\n",
      "       b\"ok I'm sick and spent an hour sitting in the shower cause I was too sick to stand and held back the puke like a champ. BED now \",\n",
      "       b'@cocomix04 ill tell ya the story later  not a good day and ill be workin for like three more hours...',\n",
      "       b'@MissXu sorry! bed time came here (GMT+1)   http://is.gd/fNge',\n",
      "       b\"@fleurylis I don't either. Its depressing. I don't think I even want to know about the kids in suitcases. \",\n",
      "       b\"Bed. Class 8-12. Work 12-3. Gym 3-5 or 6. Then class 6-10. Another day that's gonna fly by. I miss my girlfriend \",\n",
      "       b\"really don't feel like getting up today... but got to study to for tomorrows practical exam... \",\n",
      "       b\"He's the reason for the teardrops on my guitar the only one who has enough of me to break my heart \",\n",
      "       b\"Sad, sad, sad. I don't know why but I hate this feeling  I wanna sleep and I still can't!\",\n",
      "       b'@JonathanRKnight Awww I soo wish I was there to see you finally comfortable! Im sad that I missed it ',\n",
      "       b\"Falling asleep. Just heard about that Tracy girl's body being found. How sad  My heart breaks for that family.\",\n",
      "       b\"@Viennah Yay! I'm happy for you with your job! But that also means less time for me and you... \",\n",
      "       b'Just checked my user timeline on my blackberry, it looks like the twanking is still happening  Are ppl still having probs w/ BGs and UIDs?',\n",
      "       b\"Oh man...was ironing @jeancjumbe's fave top to wear to a meeting. Burnt it \",\n",
      "       b'is strangely sad about LiLo and SamRo breaking up. ',\n",
      "       b\"@tea oh! i'm so sorry  i didn't think about that before retweeting.\",\n",
      "       b\"Broadband plan 'a massive broken promise' http://tinyurl.com/dcuc33 via www.diigo.com/~tautao Still waiting for broadband we are \",\n",
      "       b\"@localtweeps Wow, tons of replies from you, may have to unfollow so I can see my friends' tweets, you're scrolling the feed a lot. \",\n",
      "       b'our duck and chicken are taking wayyy too long to hatch ',\n",
      "       b'Put vacation photos online a few yrs ago. PC crashed, and now I forget the name of the site. ',\n",
      "       b'I need a hug ',\n",
      "       b'@andywana Not sure what they are, only that they are PoS! As much as I want to, I dont think can trade away company assets sorry andy! ',\n",
      "       b'@oanhLove I hate when that happens... ',\n",
      "       b\"I have a sad feeling that Dallas is not going to show up  I gotta say though, you'd think more shows would use music from the game. mmm\",\n",
      "       b'Ugh....92 degrees tomorrow ',\n",
      "       b'Where did u move to?  I thought u were already in sd. ?? Hmmm. Random u found me. Glad to hear yer doing well.',\n",
      "       b\"@BatManYNG I miss my ps3, it's out of commission  Wutcha playing? Have you copped 'Blood On The Sand'?\",\n",
      "       b'just leaving the parking lot of work! ',\n",
      "       b'The Life is cool. But not for Me. ',\n",
      "       b\"Sadly though, I've never gotten to experience the post coitus cigarette before, and now I never will. \",\n",
      "       b'I had such a nice day. Too bad the rain comes in tomorrow at 5am ',\n",
      "       b\"@Starrbby too bad I won't be around I lost my job and can't even pay my phone bill lmao aw shucks \",\n",
      "       b'Damm back to school tomorrow ',\n",
      "       b\"Mo jobs, no money.  how in the hell is min wage here 4 f'n clams an hour?\",\n",
      "       b'@katortiz  Not forever... See you soon!',\n",
      "       b'@Lt_Algonquin agreed, I saw the failwhale allllll day today. ',\n",
      "       b\"@jdarter Oh! Haha... dude I dont really look at em unless someone says HEY I ADDED YOU. Sorry  I'm so terrible at that. I need a pop up!\",\n",
      "       b\"@ninjen I'm sure you're right...    I need to start working out with you and the Nikster... Or Jared at least!\",\n",
      "       b'i really hate how people diss my bands!  Trace is clearly NOT ugly!',\n",
      "       b'Gym attire today was: Puma singlet, Adidas shorts.......and black business socks and leather shoes  Lucky did not run into any cute girls.',\n",
      "       b\"Why won't you show my location?!   http://twitpic.com/2y2es\",\n",
      "       b'No picnic  my phone smells like citrus.',\n",
      "       b\"@ashleyac My donkey is sensitive about such comments. Nevertheless, he'd (and me'd) be glad to see your mug asap. Charger is still awol. \",\n",
      "       b'No new csi tonight.  FML',\n",
      "       b'i think my arms are sore from tennis ',\n",
      "       b'wonders why someone that u like so much can make you so unhappy in a split seccond . depressed . ',\n",
      "       b'sleep soon... i just hate saying bye and see you tomorrow for the night. ',\n",
      "       b'@statravelAU just got ur newsletter, those fares really are unbelievable, shame I already booked and paid for mine ',\n",
      "       b\"missin' the boo \", b'@markhardy1974 Me too  #itm',\n",
      "       b\"Damn... I don't have any chalk! MY CHALKBOARD IS USELESS \",\n",
      "       b\"had a blast at the Getty Villa, but hates that she's had a sore throat all day. It's just getting worse too \",\n",
      "       b'@msdrama hey missed ya at the meeting  sup mama',\n",
      "       b\"My tummy hurts.  I wonder if the hypnosis has anything to do with it? If so, it's working, I get it, STOP SMOKING!!!\",\n",
      "       b'why is it always the fat ones?! ',\n",
      "       b\"@januarycrimson Sorry, babe!!  My fam annoys me too. Thankfully, they're asleep right now. Muahaha. *evil laugh*\",\n",
      "       b'@Hollywoodheat I should have paid more attention when we covered photoshop in my webpage design class in undergrad ',\n",
      "       b\"wednesday my b-day! don't know what 2 do!! \",\n",
      "       b'Poor cameron (the hills) ',\n",
      "       b'pray for me please, the ex is threatening to start sh** at my/our babies 1st Birthday party. what a jerk. and I still have a headache ',\n",
      "       b'@makeherfamous hmm  , do u really enjoy being with him ? if the problems are too constants u should think things more , find someone ulike',\n",
      "       b'Strider is a sick little puppy  http://apps.facebook.com/dogbook/profile/view/5248435',\n",
      "       b\"so rylee,grace...wana go steve's party or not?? SADLY SINCE ITS EASTER I WNT B ABLE 2 DO MUCH  BUT OHH WELL.....\",\n",
      "       b\"hey, I actually won one of my bracket pools! Too bad it wasn't the one for money \",\n",
      "       b\"@stark YOU don't follow me, either  and i work for you!\",\n",
      "       b'A bad nite for the favorite teams: Astros and Spartans lose.  The nite out with T.W. was good.',\n",
      "       b' Body Of Missing Northern Calif. Girl Found: Police have found the remains of a missing Northern California girl .. http://tr.im/imji',\n",
      "       b'@mangaaa I hope they will increase the capacity fast, yesterday was such a pain. Got the fail whale +15 times in 2 hours.... ',\n",
      "       b'Behind on my classes for work ', b'watching &quot;House&quot; ',\n",
      "       b'@kpreyes Remember my bum leg? Strikes back this time its serious ',\n",
      "       b'@paradisej cool, i will. their are all kinds of complaints about this laptop online about overheating, but no recalls ',\n",
      "       b'Emily will be glad when Mommy is done training at her new job. She misses her.  http://apps.facebook.com/dogbook/profile/view/6176014',\n",
      "       b'would rather the first party send bad messages than the 3rd party send mixed ones  Sophmore year all over again?',\n",
      "       b\"@Henkuyinepu it's overrated \",\n",
      "       b'@marykatherine_q i know! I heard it this afternoon and wondered the same thing. Moscow is so behind the times ',\n",
      "       b'laying in bed with no voice.. ',\n",
      "       b\"I'm sooo sad!!! they killed off Kutner on House  whyyyyyyyy\",\n",
      "       b'@jacobsummers Sorry  tell them mea culpa from me and that I really am sorry.',\n",
      "       b\"@Alliana07 it didn't make any sense to me, the suicide thing. I refuse to believe that that is actually what happened. \",\n",
      "       b'@salancaster  hope your ok.',\n",
      "       b\"@mercedesashley Damn! The grind is inspirational and saddening at the same time.  Don't want you to stop cuz I like what u do! Much love\",\n",
      "       b'@HibaNick yeah aw but i know i wudnt stand a chance ',\n",
      "       b'ugh. cant sleep. its 1:30am. ',\n",
      "       b\"Hanging in Crooners. Wanna sing. Can't. Sucks. \",\n",
      "       b'@eRRe_sC aaw i miss ya all too.. im leaving to BH tomorrow &quot;morning&quot; i think.. aww i wanna go to the beach w u girls!! ',\n",
      "       b\"Is pissed off that there's no ASBA's for a radio station. \",\n",
      "       b\"wednesday my b-day n don't know what 2 do!  \",\n",
      "       b'I know my life has been flipped upside down when I just thought in my head that some Ramen sounds good. ',\n",
      "       b'I am in pain. My back and sides hurt. Not to mention crying is made of fail. ',\n",
      "       b\"Late night snack, glass of OJ b/c I'm &quot;down with the sickness&quot;, then back to sleep...ugh I hate getting sick... \",\n",
      "       b\"@allyheman but.. but.. but.. I'm not a big fan on camilla belle \",\n",
      "       b\"@grum WAH I can't see clip, must be el-stupido work filters. Can't wait 'till I get a 'puter. Something else 2 blame ex 4. He broke mine \",\n",
      "       b\"This week just seems to get longer and longer in terms of how much I need to do.. and how much I'm actually going to get done \"],\n",
      "      dtype=object)>, <tf.Tensor: shape=(128,), dtype=int64, numpy=\n",
      "array([0, 0, 0, 0, 0, 0, 0, 0, 0, 0, 0, 0, 0, 0, 0, 0, 0, 0, 0, 0, 0, 0,\n",
      "       0, 0, 0, 0, 0, 0, 0, 0, 0, 0, 0, 0, 0, 0, 0, 0, 0, 0, 0, 0, 0, 0,\n",
      "       0, 0, 0, 0, 0, 0, 0, 0, 0, 0, 0, 0, 0, 0, 0, 0, 0, 0, 0, 0, 0, 0,\n",
      "       0, 0, 0, 0, 0, 0, 0, 0, 0, 0, 0, 0, 0, 0, 0, 0, 0, 0, 0, 0, 0, 0,\n",
      "       0, 0, 0, 0, 0, 0, 0, 0, 0, 0, 0, 0, 0, 0, 0, 0, 0, 0, 0, 0, 0, 0,\n",
      "       0, 0, 0, 0, 0, 0, 0, 0, 0, 0, 0, 0, 0, 0, 0, 0, 0, 0], dtype=int64)>)\n"
     ]
    }
   ],
   "source": [
    "for values in train_dataset.take(1):\n",
    "    print(values)"
   ]
  },
  {
   "cell_type": "code",
   "execution_count": 10,
   "id": "301d8456",
   "metadata": {},
   "outputs": [],
   "source": [
    "# GRADED FUNCTION: fit_vectorizer\n",
    "\n",
    "def fit_vectorizer(dataset):\n",
    "    \"\"\"\n",
    "    Adapts the TextVectorization layer on the training sentences\n",
    "    \n",
    "    Args:\n",
    "        dataset (tf.data.Dataset): Tensorflow dataset with training sentences.\n",
    "    \n",
    "    Returns:\n",
    "        tf.keras.layers.TextVectorization: an instance of the TextVectorization class adapted to the training sentences.\n",
    "    \"\"\"    \n",
    "\n",
    "    ### START CODE HERE ###\n",
    "    \n",
    "    # Instantiate the TextVectorization class, defining the necessary arguments alongside their corresponding values\n",
    "    vectorizer = tf.keras.layers.TextVectorization(\n",
    "        max_tokens=None,  # Let the layer learn the vocabulary size\n",
    "        output_mode='int',\n",
    "        output_sequence_length=MAX_LENGTH,\n",
    "        standardize='lower_and_strip_punctuation'  # Convert to lowercase and remove punctuation\n",
    "    ) \n",
    "    \n",
    "    # Fit the tokenizer to the training sentences\n",
    "    vectorizer.adapt(dataset)\n",
    "    \n",
    "    \n",
    "    \n",
    "    ### END CODE HERE ###\n",
    "    \n",
    "    return vectorizer"
   ]
  },
  {
   "cell_type": "code",
   "execution_count": 11,
   "id": "90b9dbed",
   "metadata": {},
   "outputs": [
    {
     "name": "stdout",
     "output_type": "stream",
     "text": [
      "Vocabulary contains 778125 words\n",
      "\n"
     ]
    }
   ],
   "source": [
    "# Get only the texts out of the dataset\n",
    "text_only_dataset = train_dataset.map(lambda text, label: text)\n",
    "\n",
    "# Adapt the vectorizer to the training sentences\n",
    "vectorizer = fit_vectorizer(text_only_dataset)\n",
    "\n",
    "# Check size of vocabulary\n",
    "vocab_size = vectorizer.vocabulary_size()\n",
    "\n",
    "print(f\"Vocabulary contains {vocab_size} words\\n\")"
   ]
  },
  {
   "cell_type": "code",
   "execution_count": 12,
   "id": "f762948f",
   "metadata": {},
   "outputs": [],
   "source": [
    "# Apply vectorization to train and val datasets\n",
    "train_dataset_vectorized = train_dataset.map(lambda x,y: (vectorizer(x), y))\n",
    "validation_dataset_vectorized = validation_dataset.map(lambda x,y: (vectorizer(x), y))"
   ]
  },
  {
   "cell_type": "code",
   "execution_count": 20,
   "id": "6d3ce7f6",
   "metadata": {},
   "outputs": [],
   "source": [
    "\n",
    "\n",
    "# Define path to file containing the embeddings\n",
    "glove_file = './data/glove.6B.100d.txt'\n",
    "\n",
    "# Initialize an empty embeddings index dictionary\n",
    "glove_embeddings = {}\n",
    "\n",
    "# Read file and fill glove_embeddings with its contents\n",
    "with open(glove_file, encoding=\"utf-8\", errors=\"replace\") as f:\n",
    "    for line in f:\n",
    "        values = line.strip().split()\n",
    "        if len(values) < 101:\n",
    "            continue\n",
    "        word = values[0]\n",
    "        try:\n",
    "            coefs = np.asarray(values[1:], dtype='float32')\n",
    "            glove_embeddings[word] = coefs\n",
    "        except ValueError:\n",
    "            continue\n"
   ]
  },
  {
   "cell_type": "code",
   "execution_count": 21,
   "id": "200bd786",
   "metadata": {
    "scrolled": true
   },
   "outputs": [
    {
     "name": "stdout",
     "output_type": "stream",
     "text": [
      "Vector representation of word dog looks like this:\n",
      "\n",
      "[ 0.30817    0.30938    0.52803   -0.92543   -0.73671    0.63475\n",
      "  0.44197    0.10262   -0.09142   -0.56607   -0.5327     0.2013\n",
      "  0.7704    -0.13983    0.13727    1.1128     0.89301   -0.17869\n",
      " -0.0019722  0.57289    0.59479    0.50428   -0.28991   -1.3491\n",
      "  0.42756    1.2748    -1.1613    -0.41084    0.042804   0.54866\n",
      "  0.18897    0.3759     0.58035    0.66975    0.81156    0.93864\n",
      " -0.51005   -0.070079   0.82819   -0.35346    0.21086   -0.24412\n",
      " -0.16554   -0.78358   -0.48482    0.38968   -0.86356   -0.016391\n",
      "  0.31984   -0.49246   -0.069363   0.018869  -0.098286   1.3126\n",
      " -0.12116   -1.2399    -0.091429   0.35294    0.64645    0.089642\n",
      "  0.70294    1.1244     0.38639    0.52084    0.98787    0.79952\n",
      " -0.34625    0.14095    0.80167    0.20987   -0.86007   -0.15308\n",
      "  0.074523   0.40816    0.019208   0.51587   -0.34428   -0.24525\n",
      " -0.77984    0.27425    0.22418    0.20164    0.017431  -0.014697\n",
      " -1.0235    -0.39695   -0.0056188  0.30569    0.31748    0.021404\n",
      "  0.11837   -0.11319    0.42456    0.53405   -0.16717   -0.27185\n",
      " -0.6255     0.12883    0.62529   -0.52086  ]\n"
     ]
    }
   ],
   "source": [
    "test_word = 'dog'\n",
    "\n",
    "test_vector = glove_embeddings[test_word]\n",
    "\n",
    "print(f\"Vector representation of word {test_word} looks like this:\\n\\n{test_vector}\")"
   ]
  },
  {
   "cell_type": "code",
   "execution_count": 22,
   "id": "9c126151",
   "metadata": {
    "scrolled": true
   },
   "outputs": [
    {
     "name": "stdout",
     "output_type": "stream",
     "text": [
      "Vector representation of word hewlett looks like this:\n",
      "\n",
      "[-0.12851   0.31182  -0.56978   0.13511   0.32281  -0.81703   0.63655\n",
      " -1.0507   -0.15281  -0.82062   0.82195  -0.011347  0.25064  -0.75278\n",
      " -0.48916  -0.43175   0.29134   0.3514    0.38409   0.33224  -0.48183\n",
      " -0.14542   0.64383   1.6313    0.33512   0.033127  0.039672 -0.04332\n",
      " -0.71606  -0.3664    1.0265    0.82588  -0.22387  -0.63676  -0.22589\n",
      "  0.79912   0.52802  -0.30399   1.2736   -0.16677  -0.50177  -0.31462\n",
      " -0.44086  -0.23376  -1.0294    0.85435  -0.01148   0.057158  0.69292\n",
      " -0.18117   0.039837 -0.86168  -0.67197  -0.067808 -0.2916   -0.74744\n",
      "  0.053889 -0.033064  0.19298  -0.63739  -0.30188  -0.14898  -0.35906\n",
      "  0.67043  -1.2153   -0.71682   0.71228   0.72294   0.061824  0.67716\n",
      "  0.11703   0.83398  -0.87826  -0.67405  -0.54951  -0.23612   0.43482\n",
      " -0.24531  -0.3427    0.5438    0.79007  -0.12483  -0.37619   0.43734\n",
      " -1.401    -0.46087   0.71468   0.007626  0.7855   -0.25982   0.69957\n",
      "  0.30976   0.24053   0.75945   0.06268   0.056633  0.13963  -0.56802\n",
      "  0.80087  -0.035765]\n"
     ]
    }
   ],
   "source": [
    "test_word = 'hewlett'\n",
    "\n",
    "test_vector = glove_embeddings[test_word]\n",
    "\n",
    "print(f\"Vector representation of word {test_word} looks like this:\\n\\n{test_vector}\")"
   ]
  },
  {
   "cell_type": "code",
   "execution_count": 23,
   "id": "e61c4077",
   "metadata": {
    "scrolled": true
   },
   "outputs": [
    {
     "name": "stdout",
     "output_type": "stream",
     "text": [
      "Each word vector has shape: (100,)\n"
     ]
    }
   ],
   "source": [
    "print(f\"Each word vector has shape: {test_vector.shape}\")"
   ]
  },
  {
   "cell_type": "code",
   "execution_count": 24,
   "id": "decc6072",
   "metadata": {},
   "outputs": [
    {
     "name": "stdout",
     "output_type": "stream",
     "text": [
      "The word dog is encoded as: 495\n"
     ]
    }
   ],
   "source": [
    "# Create a word index dictionary\n",
    "word_index = {x:i for i,x in enumerate(vectorizer.get_vocabulary())}\n",
    "\n",
    "print(f\"The word dog is encoded as: {word_index['dog']}\")"
   ]
  },
  {
   "cell_type": "code",
   "execution_count": 25,
   "id": "3620b1bc",
   "metadata": {},
   "outputs": [],
   "source": [
    "# Initialize an empty numpy array with the appropriate size\n",
    "embeddings_matrix = np.zeros((vocab_size, EMBEDDING_DIM))\n",
    "\n",
    "# Iterate all of the words in the vocabulary and if the vector representation for \n",
    "# each word exists within GloVe's representations, save it in the embeddings_matrix array\n",
    "for word, i in word_index.items():\n",
    "    embedding_vector = glove_embeddings.get(word)\n",
    "    if embedding_vector is not None:\n",
    "        embeddings_matrix[i] = embedding_vector"
   ]
  },
  {
   "cell_type": "code",
   "execution_count": 26,
   "id": "0e3ef4d7",
   "metadata": {
    "scrolled": true
   },
   "outputs": [
    {
     "name": "stdout",
     "output_type": "stream",
     "text": [
      "word: dog, index: 495\n",
      "\n",
      "Embedding is equal to column 495 in the embeddings_matrix: True\n"
     ]
    }
   ],
   "source": [
    "test_word = 'dog'\n",
    "\n",
    "test_word_id = word_index[test_word]\n",
    "\n",
    "test_vector_dog = glove_embeddings[test_word]\n",
    "\n",
    "test_embedding_dog = embeddings_matrix[test_word_id]\n",
    "\n",
    "both_equal = np.allclose(test_vector_dog,test_embedding_dog)\n",
    "\n",
    "print(f\"word: {test_word}, index: {test_word_id}\\n\\nEmbedding is equal to column {test_word_id} in the embeddings_matrix: {both_equal}\")"
   ]
  },
  {
   "cell_type": "code",
   "execution_count": 27,
   "id": "151e79ba",
   "metadata": {},
   "outputs": [],
   "source": [
    "# GRADED FUNCTION: create_model\n",
    "\n",
    "def create_model(vocab_size, pretrained_embeddings):\n",
    "    \"\"\"\n",
    "    Creates a binary sentiment classifier model\n",
    "    \n",
    "    Args:\n",
    "        vocab_size (int): Number of words in the vocabulary.\n",
    "        pretrained_embeddings (np.ndarray): Array containing pre-trained embeddings.\n",
    "\n",
    "    Returns:\n",
    "        (tf.keras Model): the sentiment classifier model\n",
    "    \"\"\"\n",
    "    ### START CODE HERE ###\n",
    "    \n",
    "    model = tf.keras.Sequential([\n",
    "        tf.keras.Input(shape=(None,)),  # Input layer for variable-length sequences\n",
    "        tf.keras.layers.Embedding(\n",
    "            input_dim=vocab_size,          # Vocabulary size\n",
    "            output_dim=pretrained_embeddings.shape[1],  # Embedding dimension\n",
    "            weights=[pretrained_embeddings],\n",
    "            trainable=False               # Pre-trained embeddings are frozen\n",
    "        ),\n",
    "        tf.keras.layers.Conv1D(filters=64, kernel_size=5, activation='relu'),  # Convolutional layer\n",
    "        tf.keras.layers.GlobalMaxPooling1D(),                                   # Global max pooling\n",
    "        tf.keras.layers.Dropout(0.5),                                           # Dropout to mitigate overfitting\n",
    "        tf.keras.layers.Dense(28, activation='relu'),                           # Fully connected hidden layer\n",
    "        tf.keras.layers.Dense(1, activation='sigmoid')                          # Output layer for binary classification\n",
    "    ])\n",
    "\n",
    "    model.compile(\n",
    "        loss='binary_crossentropy',  # Loss function for binary classification\n",
    "        optimizer='adam',            # Optimizer\n",
    "        metrics=['accuracy']         # Metric to monitor during training\n",
    "    )\n",
    "\n",
    "    ### END CODE HERE ###\n",
    "\n",
    "    return model"
   ]
  },
  {
   "cell_type": "code",
   "execution_count": 28,
   "id": "be427d7e",
   "metadata": {},
   "outputs": [],
   "source": [
    "# Create your untrained model\n",
    "model = create_model(vocab_size, embeddings_matrix)"
   ]
  },
  {
   "cell_type": "code",
   "execution_count": 29,
   "id": "23c66a5c",
   "metadata": {},
   "outputs": [
    {
     "name": "stdout",
     "output_type": "stream",
     "text": [
      "predictions have shape: (128, 1)\n"
     ]
    }
   ],
   "source": [
    "# Take an example batch of data\n",
    "example_batch = train_dataset_vectorized.take(1)\n",
    "\n",
    "try:\n",
    "\tmodel.evaluate(example_batch, verbose=False)\n",
    "except:\n",
    "\tprint(\"Your model is not compatible with the dataset you defined earlier. Check that the loss function and last layer are compatible with one another.\")\n",
    "else:\n",
    "\tpredictions = model.predict(example_batch, verbose=False)\n",
    "\tprint(f\"predictions have shape: {predictions.shape}\")"
   ]
  },
  {
   "cell_type": "code",
   "execution_count": 30,
   "id": "ba4a674b",
   "metadata": {},
   "outputs": [
    {
     "name": "stdout",
     "output_type": "stream",
     "text": [
      "Epoch 1/10\n",
      "\u001b[1m11250/11250\u001b[0m \u001b[32m━━━━━━━━━━━━━━━━━━━━\u001b[0m\u001b[37m\u001b[0m \u001b[1m37s\u001b[0m 3ms/step - accuracy: 0.9996 - loss: 0.0143 - val_accuracy: 1.0000 - val_loss: 1.5095e-06\n",
      "Epoch 2/10\n",
      "\u001b[1m11250/11250\u001b[0m \u001b[32m━━━━━━━━━━━━━━━━━━━━\u001b[0m\u001b[37m\u001b[0m \u001b[1m36s\u001b[0m 3ms/step - accuracy: 0.9865 - loss: 0.4946 - val_accuracy: 1.0000 - val_loss: 4.1616e-06\n",
      "Epoch 3/10\n",
      "\u001b[1m11250/11250\u001b[0m \u001b[32m━━━━━━━━━━━━━━━━━━━━\u001b[0m\u001b[37m\u001b[0m \u001b[1m34s\u001b[0m 3ms/step - accuracy: 0.9877 - loss: 0.2759 - val_accuracy: 1.0000 - val_loss: 1.0216e-06\n",
      "Epoch 4/10\n",
      "\u001b[1m11250/11250\u001b[0m \u001b[32m━━━━━━━━━━━━━━━━━━━━\u001b[0m\u001b[37m\u001b[0m \u001b[1m34s\u001b[0m 3ms/step - accuracy: 0.9850 - loss: 0.3818 - val_accuracy: 1.0000 - val_loss: 8.8919e-07\n",
      "Epoch 5/10\n",
      "\u001b[1m11250/11250\u001b[0m \u001b[32m━━━━━━━━━━━━━━━━━━━━\u001b[0m\u001b[37m\u001b[0m \u001b[1m34s\u001b[0m 3ms/step - accuracy: 0.9856 - loss: 0.3118 - val_accuracy: 1.0000 - val_loss: 3.8802e-06\n",
      "Epoch 6/10\n",
      "\u001b[1m11250/11250\u001b[0m \u001b[32m━━━━━━━━━━━━━━━━━━━━\u001b[0m\u001b[37m\u001b[0m \u001b[1m34s\u001b[0m 3ms/step - accuracy: 0.9868 - loss: 0.2069 - val_accuracy: 1.0000 - val_loss: 1.8199e-07\n",
      "Epoch 7/10\n",
      "\u001b[1m11250/11250\u001b[0m \u001b[32m━━━━━━━━━━━━━━━━━━━━\u001b[0m\u001b[37m\u001b[0m \u001b[1m34s\u001b[0m 3ms/step - accuracy: 0.9861 - loss: 0.2514 - val_accuracy: 1.0000 - val_loss: 3.9832e-07\n",
      "Epoch 8/10\n",
      "\u001b[1m11250/11250\u001b[0m \u001b[32m━━━━━━━━━━━━━━━━━━━━\u001b[0m\u001b[37m\u001b[0m \u001b[1m35s\u001b[0m 3ms/step - accuracy: 0.9876 - loss: 0.2839 - val_accuracy: 1.0000 - val_loss: 8.1547e-08\n",
      "Epoch 9/10\n",
      "\u001b[1m11250/11250\u001b[0m \u001b[32m━━━━━━━━━━━━━━━━━━━━\u001b[0m\u001b[37m\u001b[0m \u001b[1m35s\u001b[0m 3ms/step - accuracy: 0.9866 - loss: 0.2770 - val_accuracy: 1.0000 - val_loss: 4.5308e-07\n",
      "Epoch 10/10\n",
      "\u001b[1m11250/11250\u001b[0m \u001b[32m━━━━━━━━━━━━━━━━━━━━\u001b[0m\u001b[37m\u001b[0m \u001b[1m34s\u001b[0m 3ms/step - accuracy: 0.9881 - loss: 0.1627 - val_accuracy: 1.0000 - val_loss: 4.3769e-07\n"
     ]
    }
   ],
   "source": [
    "# Train the model and save the training history\n",
    "history = model.fit(\n",
    "\ttrain_dataset_vectorized, \n",
    "\tepochs=10, \n",
    "\tvalidation_data=validation_dataset_vectorized\n",
    ")"
   ]
  },
  {
   "cell_type": "code",
   "execution_count": 31,
   "id": "6ada4f4a",
   "metadata": {},
   "outputs": [
    {
     "data": {
      "image/png": "[encoded data removed]",
      "text/plain": [
       "<Figure size 1000x500 with 2 Axes>"
      ]
     },
     "metadata": {},
     "output_type": "display_data"
    }
   ],
   "source": [
    "# Get training and validation accuracies\n",
    "acc = history.history['accuracy']\n",
    "val_acc = history.history['val_accuracy']\n",
    "loss = history.history['loss']\n",
    "val_loss = history.history['val_loss']\n",
    "\n",
    "# Get number of epochs\n",
    "epochs = range(len(acc))\n",
    "\n",
    "fig, ax = plt.subplots(1, 2, figsize=(10, 5))\n",
    "fig.suptitle('Training and validation performance')\n",
    "\n",
    "for i, (data, label) in enumerate(zip([(acc, val_acc), (loss, val_loss)], [\"Accuracy\", \"Loss\"])):\n",
    "    ax[i].plot(epochs, data[0], 'r', label=\"Training \" + label)\n",
    "    ax[i].plot(epochs, data[1], 'b', label=\"Validation \" + label)\n",
    "    ax[i].legend()\n",
    "    ax[i].set_xlabel('epochs')"
   ]
  },
  {
   "cell_type": "code",
   "execution_count": 32,
   "id": "5d4dc447",
   "metadata": {},
   "outputs": [],
   "source": [
    "with open('sentiment_analysis_training.pkl', 'wb') as f:\n",
    "    pickle.dump(history.history, f)"
   ]
  },
  {
   "cell_type": "code",
   "execution_count": null,
   "id": "f4327276",
   "metadata": {},
   "outputs": [],
   "source": []
  },
  {
   "cell_type": "code",
   "execution_count": null,
   "id": "a6b794d8",
   "metadata": {},
   "outputs": [],
   "source": []
  }
 ],
 "metadata": {
  "kernelspec": {
   "display_name": "Python 3 (ipykernel)",
   "language": "python",
   "name": "python3"
  },
  "language_info": {
   "codemirror_mode": {
    "name": "ipython",
    "version": 3
   },
   "file_extension": ".py",
   "mimetype": "text/x-python",
   "name": "python",
   "nbconvert_exporter": "python",
   "pygments_lexer": "ipython3",
   "version": "3.10.15"
  }
 },
 "nbformat": 4,
 "nbformat_minor": 5
}
